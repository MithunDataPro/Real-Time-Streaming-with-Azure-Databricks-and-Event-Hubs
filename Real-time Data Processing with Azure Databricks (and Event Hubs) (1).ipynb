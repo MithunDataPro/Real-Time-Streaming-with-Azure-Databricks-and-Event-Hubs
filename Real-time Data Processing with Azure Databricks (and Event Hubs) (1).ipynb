{
 "cells": [
  {
   "cell_type": "markdown",
   "metadata": {
    "application/vnd.databricks.v1+cell": {
     "cellMetadata": {
      "byteLimit": 2048000,
      "rowLimit": 10000
     },
     "inputWidgets": {},
     "nuid": "a7a39961-ef88-4c98-bdaf-32599b4e4106",
     "showTitle": false,
     "title": ""
    }
   },
   "source": [
    "# Real-time Data Processing with Azure Databricks (and Event Hubs)\n",
    "\n",
    "This notebook demonstrates the below architecture to build real-time data pipelines.\n",
    "![Solution Architecture](https://raw.githubusercontent.com/malvik01/Real-Time-Streaming-with-Azure-Databricks/main/Azure%20Solution%20Architecture.png)\n",
    "\n",
    "\n",
    "- Data Sources: Streaming data from IoT devices or social media feeds. (Simulated in Event Hubs)\n",
    "- Ingestion: Azure Event Hubs for capturing real-time data.\n",
    "- Processing: Azure Databricks for stream processing using Structured Streaming.\n",
    "- Storage: Processed data stored Azure Data Lake (Delta Format).\n",
    "- Visualisation: Data visualized using Power BI.\n",
    "\n",
    "\n",
    "### Azure Services Required\n",
    "- Databricks Workspace (Unity Catalog enabled)\n",
    "- Azure Data Lake Storage (Premium)\n",
    "- Azure Event Hub (Basic Tier)\n",
    "\n",
    "### Azure Databricks Configuration Required\n",
    "- Single Node Compute Cluster: `12.2 LTS (includes Apache Spark 3.3.2, Scala 2.12)`\n",
    "- Maven Library installed on Compute Cluster: `com.microsoft.azure:azure-eventhubs-spark_2.12:2.3.22`"
   ]
  },
  {
   "cell_type": "markdown",
   "metadata": {
    "application/vnd.databricks.v1+cell": {
     "cellMetadata": {
      "byteLimit": 2048000,
      "rowLimit": 10000
     },
     "inputWidgets": {},
     "nuid": "e1a287c0-1c5e-4649-ad56-a7b03707a663",
     "showTitle": false,
     "title": ""
    }
   },
   "source": [
    "Importing the libraries."
   ]
  },
  {
   "cell_type": "code",
   "execution_count": 0,
   "metadata": {
    "application/vnd.databricks.v1+cell": {
     "cellMetadata": {
      "byteLimit": 2048000,
      "rowLimit": 10000
     },
     "inputWidgets": {},
     "nuid": "d376948f-980e-4887-a319-45a525172d43",
     "showTitle": false,
     "title": ""
    }
   },
   "outputs": [],
   "source": [
    "from pyspark.sql.functions import *\n",
    "from pyspark.sql.types import *"
   ]
  },
  {
   "cell_type": "markdown",
   "metadata": {
    "application/vnd.databricks.v1+cell": {
     "cellMetadata": {
      "byteLimit": 2048000,
      "rowLimit": 10000
     },
     "inputWidgets": {},
     "nuid": "6b5cc9f6-21cd-4201-a324-e97122c8203f",
     "showTitle": false,
     "title": ""
    }
   },
   "source": [
    "The code block below creates the catalog and schemas for our solution. \n",
    "\n",
    "The approach utilises a multi-hop data storage architecture (medallion), consisting of bronze, silver, and gold schemas within a 'streaming' catalog. "
   ]
  },
  {
   "cell_type": "code",
   "execution_count": 0,
   "metadata": {
    "application/vnd.databricks.v1+cell": {
     "cellMetadata": {
      "byteLimit": 2048000,
      "rowLimit": 10000
     },
     "inputWidgets": {},
     "nuid": "93b39f87-bd7a-491a-87fa-2a0da1230a0a",
     "showTitle": false,
     "title": ""
    }
   },
   "outputs": [],
   "source": [
    "# Configurations for OAuth2 authentication\n",
    "configs = {\n",
    "    \"fs.azure.account.auth.type\": \"OAuth\",\n",
    "    \"fs.azure.account.oauth.provider.type\": \"org.apache.hadoop.fs.azurebfs.oauth2.ClientCredsTokenProvider\",\n",
    "    \"fs.azure.account.oauth2.client.id\": \"your-client-id\",  # Replace with your actual Client ID\n",
    "    \"fs.azure.account.oauth2.client.secret\": \"your-client-secret\",  # Replace with your actual Client Secret\n",
    "    \"fs.azure.account.oauth2.client.endpoint\": \"https://login.microsoftonline.com/your-tenant-id/oauth2/token\"  # Replace with your actual OAuth2 token endpoint\n",
    "}\n",
    "\n",
    "# Mount the storage container\n",
    "dbutils.fs.mount(\n",
    "    source = \"abfss://databricks@damasmartstorage.dfs.core.windows.net/\",\n",
    "    mount_point = \"/mnt/tokyomountM\",\n",
    "    extra_configs = configs\n",
    ")\n"
   ]
  },
  {
   "cell_type": "code",
   "execution_count": 0,
   "metadata": {
    "application/vnd.databricks.v1+cell": {
     "cellMetadata": {
      "byteLimit": 2048000,
      "implicitDf": true,
      "rowLimit": 10000
     },
     "inputWidgets": {},
     "nuid": "49397d51-5412-4079-9159-06307954a7c1",
     "showTitle": false,
     "title": ""
    }
   },
   "outputs": [
    {
     "output_type": "stream",
     "name": "stdout",
     "output_type": "stream",
     "text": [
      "check if catalog already exists\ncheck if bronze schema already exists\ncheck if silver schema already exists\ncheck if gold schema already exists\n"
     ]
    }
   ],
   "source": [
    "try:\n",
    "    spark.sql(\"create catalog streaming;\")\n",
    "except:\n",
    "    print('check if catalog already exists')\n",
    "\n",
    "try:\n",
    "    spark.sql(\"create schema streaming.bronze;\")\n",
    "except:\n",
    "    print('check if bronze schema already exists')\n",
    "\n",
    "try:\n",
    "    spark.sql(\"create schema streaming.silver\")\n",
    "except:\n",
    "    print('check if silver schema already exists')\n",
    "\n",
    "try:\n",
    "    spark.sql(\"create schema streaming.gold;\")\n",
    "except:\n",
    "    print('check if gold schema already exists')"
   ]
  },
  {
   "cell_type": "markdown",
   "metadata": {
    "application/vnd.databricks.v1+cell": {
     "cellMetadata": {
      "byteLimit": 2048000,
      "rowLimit": 10000
     },
     "inputWidgets": {},
     "nuid": "90b61da0-3b55-4941-8436-2411646fa4f9",
     "showTitle": false,
     "title": ""
    }
   },
   "source": [
    "#### Bronze Layer"
   ]
  },
  {
   "cell_type": "markdown",
   "metadata": {
    "application/vnd.databricks.v1+cell": {
     "cellMetadata": {
      "byteLimit": 2048000,
      "rowLimit": 10000
     },
     "inputWidgets": {},
     "nuid": "8806de51-7d1e-4dcc-8981-27f5a3447f96",
     "showTitle": false,
     "title": ""
    }
   },
   "source": [
    "Set up Azure Event hubs connection string."
   ]
  },
  {
   "cell_type": "code",
   "execution_count": 0,
   "metadata": {
    "application/vnd.databricks.v1+cell": {
     "cellMetadata": {
      "byteLimit": 2048000,
      "rowLimit": 10000
     },
     "inputWidgets": {},
     "nuid": "3f30403d-ee10-42b5-b4dd-39ac06c06e0e",
     "showTitle": false,
     "title": ""
    }
   },
   "outputs": [],
   "source": [
    "# Config\n",
    "# Replace with your Event Hub namespace, name, and key\n",
    "connectionString = \"Endpoint=sb://eh-namespace-project.servicebus.windows.net/;SharedAccessKeyName=databricks;SharedAccessKey=T85OhbuXV15l/wjCin7vzwsVpfc+ul5io+AEhHnE0Q0=;EntityPath=eh-project\"\n",
    "eventHubName = \"eh-project\"\n",
    "\n",
    "ehConf = {\n",
    "  'eventhubs.connectionString' : sc._jvm.org.apache.spark.eventhubs.EventHubsUtils.encrypt(connectionString),\n",
    "  'eventhubs.eventHubName': eventHubName\n",
    "}"
   ]
  },
  {
   "cell_type": "markdown",
   "metadata": {
    "application/vnd.databricks.v1+cell": {
     "cellMetadata": {
      "byteLimit": 2048000,
      "rowLimit": 10000
     },
     "inputWidgets": {},
     "nuid": "37b28ff3-52b8-4a3f-ad67-758854096a2b",
     "showTitle": false,
     "title": ""
    }
   },
   "source": [
    "Reading and writing the stream to the bronze layer."
   ]
  },
  {
   "cell_type": "code",
   "execution_count": 0,
   "metadata": {
    "application/vnd.databricks.v1+cell": {
     "cellMetadata": {
      "byteLimit": 2048000,
      "rowLimit": 10000
     },
     "inputWidgets": {},
     "nuid": "7fa570f6-4a86-485f-86ea-6e85b4357081",
     "showTitle": false,
     "title": ""
    }
   },
   "outputs": [
    {
     "output_type": "display_data",
     "data": {
      "text/html": [
       "<style scoped>\n",
       "  .table-result-container {\n",
       "    max-height: 300px;\n",
       "    overflow: auto;\n",
       "  }\n",
       "  table, th, td {\n",
       "    border: 1px solid black;\n",
       "    border-collapse: collapse;\n",
       "  }\n",
       "  th, td {\n",
       "    padding: 5px;\n",
       "  }\n",
       "  th {\n",
       "    text-align: left;\n",
       "  }\n",
       "</style><div class='table-result-container'><table class='table-result'><thead style='background-color: white'><tr><th>body</th><th>partition</th><th>offset</th><th>sequenceNumber</th><th>enqueuedTime</th><th>publisher</th><th>partitionKey</th><th>properties</th><th>systemProperties</th></tr></thead><tbody><tr><td>ewogICJ0ZW1wZXJhdHVyZSI6IDEwLAogICJodW1pZGl0eSI6IDE1LAogICJ3aW5kU3BlZWQiOiAyMCwKICAid2luZERpcmVjdGlvbiI6ICJORSIsCiAgInByZWNpcGl0YXRpb24iOiAyLAogICJjb25kaXRpb25zIjogIlJhaW4= (truncated)</td><td>0</td><td>4294970600</td><td>17</td><td>2024-08-19T05:56:14.577+0000</td><td>null</td><td>null</td><td>Map()</td><td>Map(x-opt-sequence-number-epoch -> -1, content-type -> application/json)</td></tr><tr><td>ewogICJ0ZW1wZXJhdHVyZSI6IDE1LAogICJodW1pZGl0eSI6IDIwLAogICJ3aW5kU3BlZWQiOiAzMCwKICAid2luZERpcmVjdGlvbiI6ICJXRSIsCiAgInByZWNpcGl0YXRpb24iOiAyLAogICJjb25kaXRpb25zIjogIkNvbGQ= (truncated)</td><td>0</td><td>4294970848</td><td>18</td><td>2024-08-19T05:56:37.343+0000</td><td>null</td><td>null</td><td>Map()</td><td>Map(x-opt-sequence-number-epoch -> -1, content-type -> application/json)</td></tr><tr><td>ewogICJ0ZW1wZXJhdHVyZSI6IDIyLAogICJodW1pZGl0eSI6IDIwLAogICJ3aW5kU3BlZWQiOiAzMCwKICAid2luZERpcmVjdGlvbiI6ICJXRSIsCiAgInByZWNpcGl0YXRpb24iOiAyLAogICJjb25kaXRpb25zIjogIlN1bm4= (truncated)</td><td>0</td><td>4294971096</td><td>19</td><td>2024-08-19T05:56:49.426+0000</td><td>null</td><td>null</td><td>Map()</td><td>Map(x-opt-sequence-number-epoch -> -1, content-type -> application/json)</td></tr><tr><td>ewogICJ0ZW1wZXJhdHVyZSI6IDMzLAogICJodW1pZGl0eSI6IDMwLAogICJ3aW5kU3BlZWQiOiAzMCwKICAid2luZERpcmVjdGlvbiI6ICJORSIsCiAgInByZWNpcGl0YXRpb24iOiAyLAogICJjb25kaXRpb25zIjogIlBhcnQ= (truncated)</td><td>0</td><td>4294971344</td><td>20</td><td>2024-08-19T05:59:01.318+0000</td><td>null</td><td>null</td><td>Map()</td><td>Map(x-opt-sequence-number-epoch -> -1, content-type -> application/json)</td></tr><tr><td>ewogICJ0ZW1wZXJhdHVyZSI6IDcwLAogICJodW1pZGl0eSI6IDEwMCwKICAid2luZFNwZWVkIjogMTAsCiAgIndpbmREaXJlY3Rpb24iOiAiTlciLAogICJwcmVjaXBpdGF0aW9uIjogMCwKICAiY29uZGl0aW9ucyI6ICJWZXI= (truncated)</td><td>0</td><td>4294971600</td><td>21</td><td>2024-08-19T06:16:29.775+0000</td><td>null</td><td>null</td><td>Map()</td><td>Map(x-opt-sequence-number-epoch -> -1, content-type -> application/json)</td></tr></tbody></table></div>"
      ]
     },
     "metadata": {
      "application/vnd.databricks.v1+output": {
       "addedWidgets": {},
       "aggData": [],
       "aggError": "",
       "aggOverflow": false,
       "aggSchema": [],
       "aggSeriesLimitReached": false,
       "aggType": "",
       "arguments": {},
       "columnCustomDisplayInfos": {},
       "data": [
        [
         "ewogICJ0ZW1wZXJhdHVyZSI6IDEwLAogICJodW1pZGl0eSI6IDE1LAogICJ3aW5kU3BlZWQiOiAyMCwKICAid2luZERpcmVjdGlvbiI6ICJORSIsCiAgInByZWNpcGl0YXRpb24iOiAyLAogICJjb25kaXRpb25zIjogIlJhaW4= (truncated)",
         "0",
         "4294970600",
         17,
         "2024-08-19T05:56:14.577+0000",
         null,
         null,
         {},
         {
          "content-type": "application/json",
          "x-opt-sequence-number-epoch": "-1"
         }
        ],
        [
         "ewogICJ0ZW1wZXJhdHVyZSI6IDE1LAogICJodW1pZGl0eSI6IDIwLAogICJ3aW5kU3BlZWQiOiAzMCwKICAid2luZERpcmVjdGlvbiI6ICJXRSIsCiAgInByZWNpcGl0YXRpb24iOiAyLAogICJjb25kaXRpb25zIjogIkNvbGQ= (truncated)",
         "0",
         "4294970848",
         18,
         "2024-08-19T05:56:37.343+0000",
         null,
         null,
         {},
         {
          "content-type": "application/json",
          "x-opt-sequence-number-epoch": "-1"
         }
        ],
        [
         "ewogICJ0ZW1wZXJhdHVyZSI6IDIyLAogICJodW1pZGl0eSI6IDIwLAogICJ3aW5kU3BlZWQiOiAzMCwKICAid2luZERpcmVjdGlvbiI6ICJXRSIsCiAgInByZWNpcGl0YXRpb24iOiAyLAogICJjb25kaXRpb25zIjogIlN1bm4= (truncated)",
         "0",
         "4294971096",
         19,
         "2024-08-19T05:56:49.426+0000",
         null,
         null,
         {},
         {
          "content-type": "application/json",
          "x-opt-sequence-number-epoch": "-1"
         }
        ],
        [
         "ewogICJ0ZW1wZXJhdHVyZSI6IDMzLAogICJodW1pZGl0eSI6IDMwLAogICJ3aW5kU3BlZWQiOiAzMCwKICAid2luZERpcmVjdGlvbiI6ICJORSIsCiAgInByZWNpcGl0YXRpb24iOiAyLAogICJjb25kaXRpb25zIjogIlBhcnQ= (truncated)",
         "0",
         "4294971344",
         20,
         "2024-08-19T05:59:01.318+0000",
         null,
         null,
         {},
         {
          "content-type": "application/json",
          "x-opt-sequence-number-epoch": "-1"
         }
        ],
        [
         "ewogICJ0ZW1wZXJhdHVyZSI6IDcwLAogICJodW1pZGl0eSI6IDEwMCwKICAid2luZFNwZWVkIjogMTAsCiAgIndpbmREaXJlY3Rpb24iOiAiTlciLAogICJwcmVjaXBpdGF0aW9uIjogMCwKICAiY29uZGl0aW9ucyI6ICJWZXI= (truncated)",
         "0",
         "4294971600",
         21,
         "2024-08-19T06:16:29.775+0000",
         null,
         null,
         {},
         {
          "content-type": "application/json",
          "x-opt-sequence-number-epoch": "-1"
         }
        ]
       ],
       "datasetInfos": [],
       "dbfsResultPath": null,
       "isJsonSchema": true,
       "metadata": {
        "isDbfsCommandResult": false
       },
       "overflow": false,
       "plotOptions": {
        "customPlotOptions": {},
        "displayType": "table",
        "pivotAggregation": null,
        "pivotColumns": null,
        "xColumns": null,
        "yColumns": null
       },
       "removedWidgets": [],
       "schema": [
        {
         "metadata": "{}",
         "name": "body",
         "type": "\"binary\""
        },
        {
         "metadata": "{}",
         "name": "partition",
         "type": "\"string\""
        },
        {
         "metadata": "{}",
         "name": "offset",
         "type": "\"string\""
        },
        {
         "metadata": "{}",
         "name": "sequenceNumber",
         "type": "\"long\""
        },
        {
         "metadata": "{}",
         "name": "enqueuedTime",
         "type": "\"timestamp\""
        },
        {
         "metadata": "{}",
         "name": "publisher",
         "type": "\"string\""
        },
        {
         "metadata": "{}",
         "name": "partitionKey",
         "type": "\"string\""
        },
        {
         "metadata": "{}",
         "name": "properties",
         "type": "{\"type\":\"map\",\"keyType\":\"string\",\"valueType\":\"string\",\"valueContainsNull\":true}"
        },
        {
         "metadata": "{}",
         "name": "systemProperties",
         "type": "{\"type\":\"map\",\"keyType\":\"string\",\"valueType\":\"string\",\"valueContainsNull\":true}"
        }
       ],
       "type": "table"
      }
     },
     "output_type": "display_data"
    }
   ],
   "source": [
    "\n",
    "# Reading stream: Load data from Azure Event Hub into DataFrame 'df' using the previously configured settings\n",
    "df = spark.readStream \\\n",
    "    .format(\"eventhubs\") \\\n",
    "    .options(**ehConf) \\\n",
    "    .load() \\\n",
    "\n",
    "# Displaying stream: Show the incoming streaming data for visualization and debugging purposes\n",
    "df.display()\n",
    "\n",
    "# Writing stream: Persist the streaming data to a Delta table 'streaming.bronze.weather' in 'append' mode with checkpointing\n",
    "df.writeStream\\\n",
    "    .option(\"checkpointLocation\", \"/mnt/streaming/bronze/weather\")\\\n",
    "    .outputMode(\"append\")\\\n",
    "    .format(\"delta\")\\\n",
    "    .toTable(\"streaming.bronze.weather\")"
   ]
  },
  {
   "cell_type": "code",
   "execution_count": 0,
   "metadata": {
    "application/vnd.databricks.v1+cell": {
     "cellMetadata": {
      "byteLimit": 2048000,
      "implicitDf": true,
      "rowLimit": 10000
     },
     "inputWidgets": {},
     "nuid": "d11e11c7-a0bd-40d9-a4db-a3112a83407d",
     "showTitle": false,
     "title": ""
    }
   },
   "outputs": [
    {
     "output_type": "display_data",
     "data": {
      "text/html": [
       "<style scoped>\n",
       "  .table-result-container {\n",
       "    max-height: 300px;\n",
       "    overflow: auto;\n",
       "  }\n",
       "  table, th, td {\n",
       "    border: 1px solid black;\n",
       "    border-collapse: collapse;\n",
       "  }\n",
       "  th, td {\n",
       "    padding: 5px;\n",
       "  }\n",
       "  th {\n",
       "    text-align: left;\n",
       "  }\n",
       "</style><div class='table-result-container'><table class='table-result'><thead style='background-color: white'><tr><th>body</th><th>partition</th><th>offset</th><th>sequenceNumber</th><th>enqueuedTime</th><th>publisher</th><th>partitionKey</th><th>properties</th><th>systemProperties</th></tr></thead><tbody><tr><td>ewogICJ0ZW1wZXJhdHVyZSI6IDIwLAogICJodW1pZGl0eSI6IDMwLAogICJ3aW5kU3BlZWQiOiAzMCwKICAid2luZERpcmVjdGlvbiI6ICJOVyIsCiAgInByZWNpcGl0YXRpb24iOiAwLAogICJjb25kaXRpb25zIjogIkhhcnM= (truncated)</td><td>0</td><td>4294968064</td><td>7</td><td>2024-08-19T05:28:34.582+0000</td><td>null</td><td>null</td><td>Map()</td><td>Map(x-opt-sequence-number-epoch -> -1, content-type -> application/json)</td></tr><tr><td>ewogICJ0ZW1wZXJhdHVyZSI6IDMwLAogICJodW1pZGl0eSI6IDQwLAogICJ3aW5kU3BlZWQiOiAzMCwKICAid2luZERpcmVjdGlvbiI6ICJOVyIsCiAgInByZWNpcGl0YXRpb24iOiAwLAogICJjb25kaXRpb25zIjogIkhhcnM= (truncated)</td><td>0</td><td>4294968320</td><td>8</td><td>2024-08-19T05:28:44.113+0000</td><td>null</td><td>null</td><td>Map()</td><td>Map(x-opt-sequence-number-epoch -> -1, content-type -> application/json)</td></tr><tr><td>ewogICJ0ZW1wZXJhdHVyZSI6IDIyLAogICJodW1pZGl0eSI6IDQwLAogICJ3aW5kU3BlZWQiOiA1MCwKICAid2luZERpcmVjdGlvbiI6ICJOVyIsCiAgInByZWNpcGl0YXRpb24iOiAwLAogICJjb25kaXRpb25zIjogIkhhcnM= (truncated)</td><td>0</td><td>4294968576</td><td>9</td><td>2024-08-19T05:29:00.488+0000</td><td>null</td><td>null</td><td>Map()</td><td>Map(x-opt-sequence-number-epoch -> -1, content-type -> application/json)</td></tr><tr><td>ewogICJ0ZW1wZXJhdHVyZSI6IDIzLAogICJodW1pZGl0eSI6IDMzLAogICJ3aW5kU3BlZWQiOiA1MCwKICAid2luZERpcmVjdGlvbiI6ICJOVyIsCiAgInByZWNpcGl0YXRpb24iOiAwLAogICJjb25kaXRpb25zIjogIkhhcnM= (truncated)</td><td>0</td><td>4294969088</td><td>11</td><td>2024-08-19T05:30:51.365+0000</td><td>null</td><td>null</td><td>Map()</td><td>Map(x-opt-sequence-number-epoch -> -1, content-type -> application/json)</td></tr><tr><td>ewogICJ0ZW1wZXJhdHVyZSI6IDE1LAogICJodW1pZGl0eSI6IDIxLAogICJ3aW5kU3BlZWQiOiA0MCwKICAid2luZERpcmVjdGlvbiI6ICJFVyIsCiAgInByZWNpcGl0YXRpb24iOiAyLAogICJjb25kaXRpb25zIjogIkNvbGQ= (truncated)</td><td>0</td><td>4294969600</td><td>13</td><td>2024-08-19T05:45:32.550+0000</td><td>null</td><td>null</td><td>Map()</td><td>Map(x-opt-sequence-number-epoch -> -1, content-type -> application/json)</td></tr><tr><td>ewogICJ0ZW1wZXJhdHVyZSI6IDIxLAogICJodW1pZGl0eSI6IDMyLAogICJ3aW5kU3BlZWQiOiA1MCwKICAid2luZERpcmVjdGlvbiI6ICJOVyIsCiAgInByZWNpcGl0YXRpb24iOiAwLAogICJjb25kaXRpb25zIjogIkhhcnM= (truncated)</td><td>0</td><td>4294968832</td><td>10</td><td>2024-08-19T05:30:42.052+0000</td><td>null</td><td>null</td><td>Map()</td><td>Map(x-opt-sequence-number-epoch -> -1, content-type -> application/json)</td></tr><tr><td>ewogICJ0ZW1wZXJhdHVyZSI6IDQwLAogICJodW1pZGl0eSI6IDQ5LAogICJ3aW5kU3BlZWQiOiAyMCwKICAid2luZERpcmVjdGlvbiI6ICJOVyIsCiAgInByZWNpcGl0YXRpb24iOiAwLAogICJjb25kaXRpb25zIjogIkhhcnM= (truncated)</td><td>0</td><td>4294969344</td><td>12</td><td>2024-08-19T05:31:05.318+0000</td><td>null</td><td>null</td><td>Map()</td><td>Map(x-opt-sequence-number-epoch -> -1, content-type -> application/json)</td></tr><tr><td>ewogICJ0ZW1wZXJhdHVyZSI6IDkwLAogICJodW1pZGl0eSI6IDgwLAogICJ3aW5kU3BlZWQiOiAzMCwKICAid2luZERpcmVjdGlvbiI6ICJOVyIsCiAgInByZWNpcGl0YXRpb24iOiAwLAogICJjb25kaXRpb25zIjogIkhhcnM= (truncated)</td><td>0</td><td>4294967808</td><td>6</td><td>2024-08-19T05:20:21.449+0000</td><td>null</td><td>null</td><td>Map()</td><td>Map(x-opt-sequence-number-epoch -> -1, content-type -> application/json)</td></tr><tr><td>ewogICJ0ZW1wZXJhdHVyZSI6IC0wMywKICAiaHVtaWRpdHkiOiA0LAogICJ3aW5kU3BlZWQiOiAxMCwKICAid2luZERpcmVjdGlvbiI6ICJORSIsCiAgInByZWNpcGl0YXRpb24iOiAyLAogICJjb25kaXRpb25zIjogIlNub3c= (truncated)</td><td>0</td><td>4294969856</td><td>14</td><td>2024-08-19T05:46:05.879+0000</td><td>null</td><td>null</td><td>Map()</td><td>Map(x-opt-sequence-number-epoch -> -1, content-type -> application/json)</td></tr><tr><td>ewogICJ0ZW1wZXJhdHVyZSI6IDAsCiAgImh1bWlkaXR5IjogMTAsCiAgIndpbmRTcGVlZCI6IDEwLAogICJ3aW5kRGlyZWN0aW9uIjogIk5FIiwKICAicHJlY2lwaXRhdGlvbiI6IDIsCiAgImNvbmRpdGlvbnMiOiAiRHJpeno= (truncated)</td><td>0</td><td>4294970104</td><td>15</td><td>2024-08-19T05:47:06.506+0000</td><td>null</td><td>null</td><td>Map()</td><td>Map(x-opt-sequence-number-epoch -> -1, content-type -> application/json)</td></tr><tr><td>ewogICJ0ZW1wZXJhdHVyZSI6IDEwLAogICJodW1pZGl0eSI6IDEwLAogICJ3aW5kU3BlZWQiOiAxMCwKICAid2luZERpcmVjdGlvbiI6ICJORSIsCiAgInByZWNpcGl0YXRpb24iOiAyLAogICJjb25kaXRpb25zIjogIlJhaW4= (truncated)</td><td>0</td><td>4294970352</td><td>16</td><td>2024-08-19T05:47:18.428+0000</td><td>null</td><td>null</td><td>Map()</td><td>Map(x-opt-sequence-number-epoch -> -1, content-type -> application/json)</td></tr></tbody></table></div>"
      ]
     },
     "metadata": {
      "application/vnd.databricks.v1+output": {
       "addedWidgets": {},
       "aggData": [],
       "aggError": "",
       "aggOverflow": false,
       "aggSchema": [],
       "aggSeriesLimitReached": false,
       "aggType": "",
       "arguments": {},
       "columnCustomDisplayInfos": {},
       "data": [
        [
         "ewogICJ0ZW1wZXJhdHVyZSI6IDIwLAogICJodW1pZGl0eSI6IDMwLAogICJ3aW5kU3BlZWQiOiAzMCwKICAid2luZERpcmVjdGlvbiI6ICJOVyIsCiAgInByZWNpcGl0YXRpb24iOiAwLAogICJjb25kaXRpb25zIjogIkhhcnM= (truncated)",
         "0",
         "4294968064",
         7,
         "2024-08-19T05:28:34.582+0000",
         null,
         null,
         {},
         {
          "content-type": "application/json",
          "x-opt-sequence-number-epoch": "-1"
         }
        ],
        [
         "ewogICJ0ZW1wZXJhdHVyZSI6IDMwLAogICJodW1pZGl0eSI6IDQwLAogICJ3aW5kU3BlZWQiOiAzMCwKICAid2luZERpcmVjdGlvbiI6ICJOVyIsCiAgInByZWNpcGl0YXRpb24iOiAwLAogICJjb25kaXRpb25zIjogIkhhcnM= (truncated)",
         "0",
         "4294968320",
         8,
         "2024-08-19T05:28:44.113+0000",
         null,
         null,
         {},
         {
          "content-type": "application/json",
          "x-opt-sequence-number-epoch": "-1"
         }
        ],
        [
         "ewogICJ0ZW1wZXJhdHVyZSI6IDIyLAogICJodW1pZGl0eSI6IDQwLAogICJ3aW5kU3BlZWQiOiA1MCwKICAid2luZERpcmVjdGlvbiI6ICJOVyIsCiAgInByZWNpcGl0YXRpb24iOiAwLAogICJjb25kaXRpb25zIjogIkhhcnM= (truncated)",
         "0",
         "4294968576",
         9,
         "2024-08-19T05:29:00.488+0000",
         null,
         null,
         {},
         {
          "content-type": "application/json",
          "x-opt-sequence-number-epoch": "-1"
         }
        ],
        [
         "ewogICJ0ZW1wZXJhdHVyZSI6IDIzLAogICJodW1pZGl0eSI6IDMzLAogICJ3aW5kU3BlZWQiOiA1MCwKICAid2luZERpcmVjdGlvbiI6ICJOVyIsCiAgInByZWNpcGl0YXRpb24iOiAwLAogICJjb25kaXRpb25zIjogIkhhcnM= (truncated)",
         "0",
         "4294969088",
         11,
         "2024-08-19T05:30:51.365+0000",
         null,
         null,
         {},
         {
          "content-type": "application/json",
          "x-opt-sequence-number-epoch": "-1"
         }
        ],
        [
         "ewogICJ0ZW1wZXJhdHVyZSI6IDE1LAogICJodW1pZGl0eSI6IDIxLAogICJ3aW5kU3BlZWQiOiA0MCwKICAid2luZERpcmVjdGlvbiI6ICJFVyIsCiAgInByZWNpcGl0YXRpb24iOiAyLAogICJjb25kaXRpb25zIjogIkNvbGQ= (truncated)",
         "0",
         "4294969600",
         13,
         "2024-08-19T05:45:32.550+0000",
         null,
         null,
         {},
         {
          "content-type": "application/json",
          "x-opt-sequence-number-epoch": "-1"
         }
        ],
        [
         "ewogICJ0ZW1wZXJhdHVyZSI6IDIxLAogICJodW1pZGl0eSI6IDMyLAogICJ3aW5kU3BlZWQiOiA1MCwKICAid2luZERpcmVjdGlvbiI6ICJOVyIsCiAgInByZWNpcGl0YXRpb24iOiAwLAogICJjb25kaXRpb25zIjogIkhhcnM= (truncated)",
         "0",
         "4294968832",
         10,
         "2024-08-19T05:30:42.052+0000",
         null,
         null,
         {},
         {
          "content-type": "application/json",
          "x-opt-sequence-number-epoch": "-1"
         }
        ],
        [
         "ewogICJ0ZW1wZXJhdHVyZSI6IDQwLAogICJodW1pZGl0eSI6IDQ5LAogICJ3aW5kU3BlZWQiOiAyMCwKICAid2luZERpcmVjdGlvbiI6ICJOVyIsCiAgInByZWNpcGl0YXRpb24iOiAwLAogICJjb25kaXRpb25zIjogIkhhcnM= (truncated)",
         "0",
         "4294969344",
         12,
         "2024-08-19T05:31:05.318+0000",
         null,
         null,
         {},
         {
          "content-type": "application/json",
          "x-opt-sequence-number-epoch": "-1"
         }
        ],
        [
         "ewogICJ0ZW1wZXJhdHVyZSI6IDkwLAogICJodW1pZGl0eSI6IDgwLAogICJ3aW5kU3BlZWQiOiAzMCwKICAid2luZERpcmVjdGlvbiI6ICJOVyIsCiAgInByZWNpcGl0YXRpb24iOiAwLAogICJjb25kaXRpb25zIjogIkhhcnM= (truncated)",
         "0",
         "4294967808",
         6,
         "2024-08-19T05:20:21.449+0000",
         null,
         null,
         {},
         {
          "content-type": "application/json",
          "x-opt-sequence-number-epoch": "-1"
         }
        ],
        [
         "ewogICJ0ZW1wZXJhdHVyZSI6IC0wMywKICAiaHVtaWRpdHkiOiA0LAogICJ3aW5kU3BlZWQiOiAxMCwKICAid2luZERpcmVjdGlvbiI6ICJORSIsCiAgInByZWNpcGl0YXRpb24iOiAyLAogICJjb25kaXRpb25zIjogIlNub3c= (truncated)",
         "0",
         "4294969856",
         14,
         "2024-08-19T05:46:05.879+0000",
         null,
         null,
         {},
         {
          "content-type": "application/json",
          "x-opt-sequence-number-epoch": "-1"
         }
        ],
        [
         "ewogICJ0ZW1wZXJhdHVyZSI6IDAsCiAgImh1bWlkaXR5IjogMTAsCiAgIndpbmRTcGVlZCI6IDEwLAogICJ3aW5kRGlyZWN0aW9uIjogIk5FIiwKICAicHJlY2lwaXRhdGlvbiI6IDIsCiAgImNvbmRpdGlvbnMiOiAiRHJpeno= (truncated)",
         "0",
         "4294970104",
         15,
         "2024-08-19T05:47:06.506+0000",
         null,
         null,
         {},
         {
          "content-type": "application/json",
          "x-opt-sequence-number-epoch": "-1"
         }
        ],
        [
         "ewogICJ0ZW1wZXJhdHVyZSI6IDEwLAogICJodW1pZGl0eSI6IDEwLAogICJ3aW5kU3BlZWQiOiAxMCwKICAid2luZERpcmVjdGlvbiI6ICJORSIsCiAgInByZWNpcGl0YXRpb24iOiAyLAogICJjb25kaXRpb25zIjogIlJhaW4= (truncated)",
         "0",
         "4294970352",
         16,
         "2024-08-19T05:47:18.428+0000",
         null,
         null,
         {},
         {
          "content-type": "application/json",
          "x-opt-sequence-number-epoch": "-1"
         }
        ]
       ],
       "datasetInfos": [],
       "dbfsResultPath": null,
       "isJsonSchema": true,
       "metadata": {},
       "overflow": false,
       "plotOptions": {
        "customPlotOptions": {},
        "displayType": "table",
        "pivotAggregation": null,
        "pivotColumns": null,
        "xColumns": null,
        "yColumns": null
       },
       "removedWidgets": [],
       "schema": [
        {
         "metadata": "{}",
         "name": "body",
         "type": "\"binary\""
        },
        {
         "metadata": "{}",
         "name": "partition",
         "type": "\"string\""
        },
        {
         "metadata": "{}",
         "name": "offset",
         "type": "\"string\""
        },
        {
         "metadata": "{}",
         "name": "sequenceNumber",
         "type": "\"long\""
        },
        {
         "metadata": "{}",
         "name": "enqueuedTime",
         "type": "\"timestamp\""
        },
        {
         "metadata": "{}",
         "name": "publisher",
         "type": "\"string\""
        },
        {
         "metadata": "{}",
         "name": "partitionKey",
         "type": "\"string\""
        },
        {
         "metadata": "{}",
         "name": "properties",
         "type": "{\"type\":\"map\",\"keyType\":\"string\",\"valueType\":\"string\",\"valueContainsNull\":true}"
        },
        {
         "metadata": "{}",
         "name": "systemProperties",
         "type": "{\"type\":\"map\",\"keyType\":\"string\",\"valueType\":\"string\",\"valueContainsNull\":true}"
        }
       ],
       "type": "table"
      }
     },
     "output_type": "display_data"
    }
   ],
   "source": [
    "%sql\n",
    "-- I could also View the stored data in bronze layer by using SQL\n",
    "\n",
    "select * from streaming.bronze.weather;\n"
   ]
  },
  {
   "cell_type": "markdown",
   "metadata": {
    "application/vnd.databricks.v1+cell": {
     "cellMetadata": {
      "byteLimit": 2048000,
      "rowLimit": 10000
     },
     "inputWidgets": {},
     "nuid": "dbee364e-6b7e-420f-8b98-8a12d663d880",
     "showTitle": false,
     "title": ""
    }
   },
   "source": [
    "#### Silver Layer"
   ]
  },
  {
   "cell_type": "markdown",
   "metadata": {
    "application/vnd.databricks.v1+cell": {
     "cellMetadata": {
      "byteLimit": 2048000,
      "rowLimit": 10000
     },
     "inputWidgets": {},
     "nuid": "8c824846-2235-4e3b-8e75-68281293d50b",
     "showTitle": false,
     "title": ""
    }
   },
   "source": [
    "Defining the schema for the JSON object."
   ]
  },
  {
   "cell_type": "code",
   "execution_count": 0,
   "metadata": {
    "application/vnd.databricks.v1+cell": {
     "cellMetadata": {
      "byteLimit": 2048000,
      "rowLimit": 10000
     },
     "inputWidgets": {},
     "nuid": "4b661190-f917-448b-9093-1017dde3bb25",
     "showTitle": false,
     "title": ""
    }
   },
   "outputs": [],
   "source": [
    "# Defining the schema for the JSON object\n",
    "\n",
    "json_schema = StructType([\n",
    "    StructField(\"temperature\", IntegerType()),\n",
    "    StructField(\"humidity\", IntegerType()),\n",
    "    StructField(\"windSpeed\", IntegerType()),\n",
    "    StructField(\"windDirection\", StringType()),\n",
    "    StructField(\"precipitation\", IntegerType()),\n",
    "    StructField(\"conditions\", StringType())\n",
    "])"
   ]
  },
  {
   "cell_type": "code",
   "execution_count": 0,
   "metadata": {
    "application/vnd.databricks.v1+cell": {
     "cellMetadata": {
      "byteLimit": 2048000,
      "rowLimit": 10000
     },
     "inputWidgets": {},
     "nuid": "57e5281a-730f-4a6f-a07b-aa6ee0832cca",
     "showTitle": false,
     "title": ""
    }
   },
   "outputs": [
    {
     "output_type": "display_data",
     "data": {
      "text/html": [
       "<style scoped>\n",
       "  .table-result-container {\n",
       "    max-height: 300px;\n",
       "    overflow: auto;\n",
       "  }\n",
       "  table, th, td {\n",
       "    border: 1px solid black;\n",
       "    border-collapse: collapse;\n",
       "  }\n",
       "  th, td {\n",
       "    padding: 5px;\n",
       "  }\n",
       "  th {\n",
       "    text-align: left;\n",
       "  }\n",
       "</style><div class='table-result-container'><table class='table-result'><thead style='background-color: white'><tr><th>body</th><th>partition</th><th>offset</th><th>sequenceNumber</th><th>enqueuedTime</th><th>publisher</th><th>partitionKey</th><th>properties</th><th>systemProperties</th></tr></thead><tbody><tr><td>ewogICJ0ZW1wZXJhdHVyZSI6IDIwLAogICJodW1pZGl0eSI6IDMwLAogICJ3aW5kU3BlZWQiOiAzMCwKICAid2luZERpcmVjdGlvbiI6ICJOVyIsCiAgInByZWNpcGl0YXRpb24iOiAwLAogICJjb25kaXRpb25zIjogIkhhcnM= (truncated)</td><td>0</td><td>4294968064</td><td>7</td><td>2024-08-19T05:28:34.582+0000</td><td>null</td><td>null</td><td>Map()</td><td>Map(x-opt-sequence-number-epoch -> -1, content-type -> application/json)</td></tr><tr><td>ewogICJ0ZW1wZXJhdHVyZSI6IDMwLAogICJodW1pZGl0eSI6IDQwLAogICJ3aW5kU3BlZWQiOiAzMCwKICAid2luZERpcmVjdGlvbiI6ICJOVyIsCiAgInByZWNpcGl0YXRpb24iOiAwLAogICJjb25kaXRpb25zIjogIkhhcnM= (truncated)</td><td>0</td><td>4294968320</td><td>8</td><td>2024-08-19T05:28:44.113+0000</td><td>null</td><td>null</td><td>Map()</td><td>Map(x-opt-sequence-number-epoch -> -1, content-type -> application/json)</td></tr><tr><td>ewogICJ0ZW1wZXJhdHVyZSI6IDIyLAogICJodW1pZGl0eSI6IDQwLAogICJ3aW5kU3BlZWQiOiA1MCwKICAid2luZERpcmVjdGlvbiI6ICJOVyIsCiAgInByZWNpcGl0YXRpb24iOiAwLAogICJjb25kaXRpb25zIjogIkhhcnM= (truncated)</td><td>0</td><td>4294968576</td><td>9</td><td>2024-08-19T05:29:00.488+0000</td><td>null</td><td>null</td><td>Map()</td><td>Map(x-opt-sequence-number-epoch -> -1, content-type -> application/json)</td></tr><tr><td>ewogICJ0ZW1wZXJhdHVyZSI6IDIzLAogICJodW1pZGl0eSI6IDMzLAogICJ3aW5kU3BlZWQiOiA1MCwKICAid2luZERpcmVjdGlvbiI6ICJOVyIsCiAgInByZWNpcGl0YXRpb24iOiAwLAogICJjb25kaXRpb25zIjogIkhhcnM= (truncated)</td><td>0</td><td>4294969088</td><td>11</td><td>2024-08-19T05:30:51.365+0000</td><td>null</td><td>null</td><td>Map()</td><td>Map(x-opt-sequence-number-epoch -> -1, content-type -> application/json)</td></tr><tr><td>ewogICJ0ZW1wZXJhdHVyZSI6IDE1LAogICJodW1pZGl0eSI6IDIxLAogICJ3aW5kU3BlZWQiOiA0MCwKICAid2luZERpcmVjdGlvbiI6ICJFVyIsCiAgInByZWNpcGl0YXRpb24iOiAyLAogICJjb25kaXRpb25zIjogIkNvbGQ= (truncated)</td><td>0</td><td>4294969600</td><td>13</td><td>2024-08-19T05:45:32.550+0000</td><td>null</td><td>null</td><td>Map()</td><td>Map(x-opt-sequence-number-epoch -> -1, content-type -> application/json)</td></tr><tr><td>ewogICJ0ZW1wZXJhdHVyZSI6IDIxLAogICJodW1pZGl0eSI6IDMyLAogICJ3aW5kU3BlZWQiOiA1MCwKICAid2luZERpcmVjdGlvbiI6ICJOVyIsCiAgInByZWNpcGl0YXRpb24iOiAwLAogICJjb25kaXRpb25zIjogIkhhcnM= (truncated)</td><td>0</td><td>4294968832</td><td>10</td><td>2024-08-19T05:30:42.052+0000</td><td>null</td><td>null</td><td>Map()</td><td>Map(x-opt-sequence-number-epoch -> -1, content-type -> application/json)</td></tr><tr><td>ewogICJ0ZW1wZXJhdHVyZSI6IDQwLAogICJodW1pZGl0eSI6IDQ5LAogICJ3aW5kU3BlZWQiOiAyMCwKICAid2luZERpcmVjdGlvbiI6ICJOVyIsCiAgInByZWNpcGl0YXRpb24iOiAwLAogICJjb25kaXRpb25zIjogIkhhcnM= (truncated)</td><td>0</td><td>4294969344</td><td>12</td><td>2024-08-19T05:31:05.318+0000</td><td>null</td><td>null</td><td>Map()</td><td>Map(x-opt-sequence-number-epoch -> -1, content-type -> application/json)</td></tr><tr><td>ewogICJ0ZW1wZXJhdHVyZSI6IDkwLAogICJodW1pZGl0eSI6IDgwLAogICJ3aW5kU3BlZWQiOiAzMCwKICAid2luZERpcmVjdGlvbiI6ICJOVyIsCiAgInByZWNpcGl0YXRpb24iOiAwLAogICJjb25kaXRpb25zIjogIkhhcnM= (truncated)</td><td>0</td><td>4294967808</td><td>6</td><td>2024-08-19T05:20:21.449+0000</td><td>null</td><td>null</td><td>Map()</td><td>Map(x-opt-sequence-number-epoch -> -1, content-type -> application/json)</td></tr><tr><td>ewogICJ0ZW1wZXJhdHVyZSI6IC0wMywKICAiaHVtaWRpdHkiOiA0LAogICJ3aW5kU3BlZWQiOiAxMCwKICAid2luZERpcmVjdGlvbiI6ICJORSIsCiAgInByZWNpcGl0YXRpb24iOiAyLAogICJjb25kaXRpb25zIjogIlNub3c= (truncated)</td><td>0</td><td>4294969856</td><td>14</td><td>2024-08-19T05:46:05.879+0000</td><td>null</td><td>null</td><td>Map()</td><td>Map(x-opt-sequence-number-epoch -> -1, content-type -> application/json)</td></tr><tr><td>ewogICJ0ZW1wZXJhdHVyZSI6IDAsCiAgImh1bWlkaXR5IjogMTAsCiAgIndpbmRTcGVlZCI6IDEwLAogICJ3aW5kRGlyZWN0aW9uIjogIk5FIiwKICAicHJlY2lwaXRhdGlvbiI6IDIsCiAgImNvbmRpdGlvbnMiOiAiRHJpeno= (truncated)</td><td>0</td><td>4294970104</td><td>15</td><td>2024-08-19T05:47:06.506+0000</td><td>null</td><td>null</td><td>Map()</td><td>Map(x-opt-sequence-number-epoch -> -1, content-type -> application/json)</td></tr><tr><td>ewogICJ0ZW1wZXJhdHVyZSI6IDEwLAogICJodW1pZGl0eSI6IDEwLAogICJ3aW5kU3BlZWQiOiAxMCwKICAid2luZERpcmVjdGlvbiI6ICJORSIsCiAgInByZWNpcGl0YXRpb24iOiAyLAogICJjb25kaXRpb25zIjogIlJhaW4= (truncated)</td><td>0</td><td>4294970352</td><td>16</td><td>2024-08-19T05:47:18.428+0000</td><td>null</td><td>null</td><td>Map()</td><td>Map(x-opt-sequence-number-epoch -> -1, content-type -> application/json)</td></tr></tbody></table></div>"
      ]
     },
     "metadata": {
      "application/vnd.databricks.v1+output": {
       "addedWidgets": {},
       "aggData": [],
       "aggError": "",
       "aggOverflow": false,
       "aggSchema": [],
       "aggSeriesLimitReached": false,
       "aggType": "",
       "arguments": {},
       "columnCustomDisplayInfos": {},
       "data": [
        [
         "ewogICJ0ZW1wZXJhdHVyZSI6IDIwLAogICJodW1pZGl0eSI6IDMwLAogICJ3aW5kU3BlZWQiOiAzMCwKICAid2luZERpcmVjdGlvbiI6ICJOVyIsCiAgInByZWNpcGl0YXRpb24iOiAwLAogICJjb25kaXRpb25zIjogIkhhcnM= (truncated)",
         "0",
         "4294968064",
         7,
         "2024-08-19T05:28:34.582+0000",
         null,
         null,
         {},
         {
          "content-type": "application/json",
          "x-opt-sequence-number-epoch": "-1"
         }
        ],
        [
         "ewogICJ0ZW1wZXJhdHVyZSI6IDMwLAogICJodW1pZGl0eSI6IDQwLAogICJ3aW5kU3BlZWQiOiAzMCwKICAid2luZERpcmVjdGlvbiI6ICJOVyIsCiAgInByZWNpcGl0YXRpb24iOiAwLAogICJjb25kaXRpb25zIjogIkhhcnM= (truncated)",
         "0",
         "4294968320",
         8,
         "2024-08-19T05:28:44.113+0000",
         null,
         null,
         {},
         {
          "content-type": "application/json",
          "x-opt-sequence-number-epoch": "-1"
         }
        ],
        [
         "ewogICJ0ZW1wZXJhdHVyZSI6IDIyLAogICJodW1pZGl0eSI6IDQwLAogICJ3aW5kU3BlZWQiOiA1MCwKICAid2luZERpcmVjdGlvbiI6ICJOVyIsCiAgInByZWNpcGl0YXRpb24iOiAwLAogICJjb25kaXRpb25zIjogIkhhcnM= (truncated)",
         "0",
         "4294968576",
         9,
         "2024-08-19T05:29:00.488+0000",
         null,
         null,
         {},
         {
          "content-type": "application/json",
          "x-opt-sequence-number-epoch": "-1"
         }
        ],
        [
         "ewogICJ0ZW1wZXJhdHVyZSI6IDIzLAogICJodW1pZGl0eSI6IDMzLAogICJ3aW5kU3BlZWQiOiA1MCwKICAid2luZERpcmVjdGlvbiI6ICJOVyIsCiAgInByZWNpcGl0YXRpb24iOiAwLAogICJjb25kaXRpb25zIjogIkhhcnM= (truncated)",
         "0",
         "4294969088",
         11,
         "2024-08-19T05:30:51.365+0000",
         null,
         null,
         {},
         {
          "content-type": "application/json",
          "x-opt-sequence-number-epoch": "-1"
         }
        ],
        [
         "ewogICJ0ZW1wZXJhdHVyZSI6IDE1LAogICJodW1pZGl0eSI6IDIxLAogICJ3aW5kU3BlZWQiOiA0MCwKICAid2luZERpcmVjdGlvbiI6ICJFVyIsCiAgInByZWNpcGl0YXRpb24iOiAyLAogICJjb25kaXRpb25zIjogIkNvbGQ= (truncated)",
         "0",
         "4294969600",
         13,
         "2024-08-19T05:45:32.550+0000",
         null,
         null,
         {},
         {
          "content-type": "application/json",
          "x-opt-sequence-number-epoch": "-1"
         }
        ],
        [
         "ewogICJ0ZW1wZXJhdHVyZSI6IDIxLAogICJodW1pZGl0eSI6IDMyLAogICJ3aW5kU3BlZWQiOiA1MCwKICAid2luZERpcmVjdGlvbiI6ICJOVyIsCiAgInByZWNpcGl0YXRpb24iOiAwLAogICJjb25kaXRpb25zIjogIkhhcnM= (truncated)",
         "0",
         "4294968832",
         10,
         "2024-08-19T05:30:42.052+0000",
         null,
         null,
         {},
         {
          "content-type": "application/json",
          "x-opt-sequence-number-epoch": "-1"
         }
        ],
        [
         "ewogICJ0ZW1wZXJhdHVyZSI6IDQwLAogICJodW1pZGl0eSI6IDQ5LAogICJ3aW5kU3BlZWQiOiAyMCwKICAid2luZERpcmVjdGlvbiI6ICJOVyIsCiAgInByZWNpcGl0YXRpb24iOiAwLAogICJjb25kaXRpb25zIjogIkhhcnM= (truncated)",
         "0",
         "4294969344",
         12,
         "2024-08-19T05:31:05.318+0000",
         null,
         null,
         {},
         {
          "content-type": "application/json",
          "x-opt-sequence-number-epoch": "-1"
         }
        ],
        [
         "ewogICJ0ZW1wZXJhdHVyZSI6IDkwLAogICJodW1pZGl0eSI6IDgwLAogICJ3aW5kU3BlZWQiOiAzMCwKICAid2luZERpcmVjdGlvbiI6ICJOVyIsCiAgInByZWNpcGl0YXRpb24iOiAwLAogICJjb25kaXRpb25zIjogIkhhcnM= (truncated)",
         "0",
         "4294967808",
         6,
         "2024-08-19T05:20:21.449+0000",
         null,
         null,
         {},
         {
          "content-type": "application/json",
          "x-opt-sequence-number-epoch": "-1"
         }
        ],
        [
         "ewogICJ0ZW1wZXJhdHVyZSI6IC0wMywKICAiaHVtaWRpdHkiOiA0LAogICJ3aW5kU3BlZWQiOiAxMCwKICAid2luZERpcmVjdGlvbiI6ICJORSIsCiAgInByZWNpcGl0YXRpb24iOiAyLAogICJjb25kaXRpb25zIjogIlNub3c= (truncated)",
         "0",
         "4294969856",
         14,
         "2024-08-19T05:46:05.879+0000",
         null,
         null,
         {},
         {
          "content-type": "application/json",
          "x-opt-sequence-number-epoch": "-1"
         }
        ],
        [
         "ewogICJ0ZW1wZXJhdHVyZSI6IDAsCiAgImh1bWlkaXR5IjogMTAsCiAgIndpbmRTcGVlZCI6IDEwLAogICJ3aW5kRGlyZWN0aW9uIjogIk5FIiwKICAicHJlY2lwaXRhdGlvbiI6IDIsCiAgImNvbmRpdGlvbnMiOiAiRHJpeno= (truncated)",
         "0",
         "4294970104",
         15,
         "2024-08-19T05:47:06.506+0000",
         null,
         null,
         {},
         {
          "content-type": "application/json",
          "x-opt-sequence-number-epoch": "-1"
         }
        ],
        [
         "ewogICJ0ZW1wZXJhdHVyZSI6IDEwLAogICJodW1pZGl0eSI6IDEwLAogICJ3aW5kU3BlZWQiOiAxMCwKICAid2luZERpcmVjdGlvbiI6ICJORSIsCiAgInByZWNpcGl0YXRpb24iOiAyLAogICJjb25kaXRpb25zIjogIlJhaW4= (truncated)",
         "0",
         "4294970352",
         16,
         "2024-08-19T05:47:18.428+0000",
         null,
         null,
         {},
         {
          "content-type": "application/json",
          "x-opt-sequence-number-epoch": "-1"
         }
        ]
       ],
       "datasetInfos": [],
       "dbfsResultPath": null,
       "isJsonSchema": true,
       "metadata": {},
       "overflow": false,
       "plotOptions": {
        "customPlotOptions": {},
        "displayType": "table",
        "pivotAggregation": null,
        "pivotColumns": null,
        "xColumns": null,
        "yColumns": null
       },
       "removedWidgets": [],
       "schema": [
        {
         "metadata": "{}",
         "name": "body",
         "type": "\"binary\""
        },
        {
         "metadata": "{}",
         "name": "partition",
         "type": "\"string\""
        },
        {
         "metadata": "{}",
         "name": "offset",
         "type": "\"string\""
        },
        {
         "metadata": "{}",
         "name": "sequenceNumber",
         "type": "\"long\""
        },
        {
         "metadata": "{}",
         "name": "enqueuedTime",
         "type": "\"timestamp\""
        },
        {
         "metadata": "{}",
         "name": "publisher",
         "type": "\"string\""
        },
        {
         "metadata": "{}",
         "name": "partitionKey",
         "type": "\"string\""
        },
        {
         "metadata": "{}",
         "name": "properties",
         "type": "{\"type\":\"map\",\"keyType\":\"string\",\"valueType\":\"string\",\"valueContainsNull\":true}"
        },
        {
         "metadata": "{}",
         "name": "systemProperties",
         "type": "{\"type\":\"map\",\"keyType\":\"string\",\"valueType\":\"string\",\"valueContainsNull\":true}"
        }
       ],
       "type": "table"
      }
     },
     "output_type": "display_data"
    }
   ],
   "source": [
    "# Before transforming data in bronze layer! Lets display the bronze layer data\n",
    "\n",
    "temp = spark.read.table('streaming.bronze.weather')\n",
    "\n",
    "temp.display()"
   ]
  },
  {
   "cell_type": "markdown",
   "metadata": {
    "application/vnd.databricks.v1+cell": {
     "cellMetadata": {
      "byteLimit": 2048000,
      "rowLimit": 10000
     },
     "inputWidgets": {},
     "nuid": "fcd659c9-65fc-4112-be6e-06f63196311f",
     "showTitle": false,
     "title": ""
    }
   },
   "source": [
    "Reading, transforming and writing the stream from the bronze to the silver layer."
   ]
  },
  {
   "cell_type": "code",
   "execution_count": 0,
   "metadata": {
    "application/vnd.databricks.v1+cell": {
     "cellMetadata": {
      "byteLimit": 2048000,
      "rowLimit": 10000
     },
     "inputWidgets": {},
     "nuid": "18db15d2-f3d1-4dd7-b5aa-ef421208b46c",
     "showTitle": false,
     "title": ""
    }
   },
   "outputs": [
    {
     "output_type": "display_data",
     "data": {
      "text/html": [
       "<style scoped>\n",
       "  .table-result-container {\n",
       "    max-height: 300px;\n",
       "    overflow: auto;\n",
       "  }\n",
       "  table, th, td {\n",
       "    border: 1px solid black;\n",
       "    border-collapse: collapse;\n",
       "  }\n",
       "  th, td {\n",
       "    padding: 5px;\n",
       "  }\n",
       "  th {\n",
       "    text-align: left;\n",
       "  }\n",
       "</style><div class='table-result-container'><table class='table-result'><thead style='background-color: white'><tr><th>temperature</th><th>humidity</th><th>windSpeed</th><th>windDirection</th><th>precipitation</th><th>conditions</th><th>timestamp</th></tr></thead><tbody><tr><td>20</td><td>30</td><td>30</td><td>NW</td><td>0</td><td>Harsh Climate</td><td>2024-08-19T05:28:34.582+0000</td></tr><tr><td>30</td><td>40</td><td>30</td><td>NW</td><td>0</td><td>Harsh Climate</td><td>2024-08-19T05:28:44.113+0000</td></tr><tr><td>22</td><td>40</td><td>50</td><td>NW</td><td>0</td><td>Harsh Climate</td><td>2024-08-19T05:29:00.488+0000</td></tr><tr><td>23</td><td>33</td><td>50</td><td>NW</td><td>0</td><td>Harsh Climate</td><td>2024-08-19T05:30:51.365+0000</td></tr><tr><td>15</td><td>21</td><td>40</td><td>EW</td><td>2</td><td>Cold Cliamte</td><td>2024-08-19T05:45:32.550+0000</td></tr><tr><td>21</td><td>32</td><td>50</td><td>NW</td><td>0</td><td>Harsh Climate</td><td>2024-08-19T05:30:42.052+0000</td></tr><tr><td>40</td><td>49</td><td>20</td><td>NW</td><td>0</td><td>Harsh Climate</td><td>2024-08-19T05:31:05.318+0000</td></tr><tr><td>90</td><td>80</td><td>30</td><td>NW</td><td>0</td><td>Harsh Climate</td><td>2024-08-19T05:20:21.449+0000</td></tr><tr><td>null</td><td>null</td><td>null</td><td>null</td><td>null</td><td>null</td><td>2024-08-19T05:46:05.879+0000</td></tr><tr><td>0</td><td>10</td><td>10</td><td>NE</td><td>2</td><td>Drizzling</td><td>2024-08-19T05:47:06.506+0000</td></tr><tr><td>10</td><td>10</td><td>10</td><td>NE</td><td>2</td><td>Raining</td><td>2024-08-19T05:47:18.428+0000</td></tr><tr><td>10</td><td>15</td><td>20</td><td>NE</td><td>2</td><td>Raining</td><td>2024-08-19T05:56:14.577+0000</td></tr><tr><td>15</td><td>20</td><td>30</td><td>WE</td><td>2</td><td>Cold</td><td>2024-08-19T05:56:37.343+0000</td></tr><tr><td>22</td><td>20</td><td>30</td><td>WE</td><td>2</td><td>Sunny</td><td>2024-08-19T05:56:49.426+0000</td></tr><tr><td>33</td><td>30</td><td>30</td><td>NE</td><td>2</td><td>Partial Raining</td><td>2024-08-19T05:59:01.318+0000</td></tr><tr><td>70</td><td>100</td><td>10</td><td>NW</td><td>0</td><td>Very Hot</td><td>2024-08-19T06:16:29.775+0000</td></tr></tbody></table></div>"
      ]
     },
     "metadata": {
      "application/vnd.databricks.v1+output": {
       "addedWidgets": {},
       "aggData": [],
       "aggError": "",
       "aggOverflow": false,
       "aggSchema": [],
       "aggSeriesLimitReached": false,
       "aggType": "",
       "arguments": {},
       "columnCustomDisplayInfos": {},
       "data": [
        [
         20,
         30,
         30,
         "NW",
         0,
         "Harsh Climate",
         "2024-08-19T05:28:34.582+0000"
        ],
        [
         30,
         40,
         30,
         "NW",
         0,
         "Harsh Climate",
         "2024-08-19T05:28:44.113+0000"
        ],
        [
         22,
         40,
         50,
         "NW",
         0,
         "Harsh Climate",
         "2024-08-19T05:29:00.488+0000"
        ],
        [
         23,
         33,
         50,
         "NW",
         0,
         "Harsh Climate",
         "2024-08-19T05:30:51.365+0000"
        ],
        [
         15,
         21,
         40,
         "EW",
         2,
         "Cold Cliamte",
         "2024-08-19T05:45:32.550+0000"
        ],
        [
         21,
         32,
         50,
         "NW",
         0,
         "Harsh Climate",
         "2024-08-19T05:30:42.052+0000"
        ],
        [
         40,
         49,
         20,
         "NW",
         0,
         "Harsh Climate",
         "2024-08-19T05:31:05.318+0000"
        ],
        [
         90,
         80,
         30,
         "NW",
         0,
         "Harsh Climate",
         "2024-08-19T05:20:21.449+0000"
        ],
        [
         null,
         null,
         null,
         null,
         null,
         null,
         "2024-08-19T05:46:05.879+0000"
        ],
        [
         0,
         10,
         10,
         "NE",
         2,
         "Drizzling",
         "2024-08-19T05:47:06.506+0000"
        ],
        [
         10,
         10,
         10,
         "NE",
         2,
         "Raining",
         "2024-08-19T05:47:18.428+0000"
        ],
        [
         10,
         15,
         20,
         "NE",
         2,
         "Raining",
         "2024-08-19T05:56:14.577+0000"
        ],
        [
         15,
         20,
         30,
         "WE",
         2,
         "Cold",
         "2024-08-19T05:56:37.343+0000"
        ],
        [
         22,
         20,
         30,
         "WE",
         2,
         "Sunny",
         "2024-08-19T05:56:49.426+0000"
        ],
        [
         33,
         30,
         30,
         "NE",
         2,
         "Partial Raining",
         "2024-08-19T05:59:01.318+0000"
        ],
        [
         70,
         100,
         10,
         "NW",
         0,
         "Very Hot",
         "2024-08-19T06:16:29.775+0000"
        ]
       ],
       "datasetInfos": [],
       "dbfsResultPath": null,
       "isJsonSchema": true,
       "metadata": {
        "isDbfsCommandResult": false
       },
       "overflow": false,
       "plotOptions": {
        "customPlotOptions": {},
        "displayType": "table",
        "pivotAggregation": null,
        "pivotColumns": null,
        "xColumns": null,
        "yColumns": null
       },
       "removedWidgets": [],
       "schema": [
        {
         "metadata": "{}",
         "name": "temperature",
         "type": "\"integer\""
        },
        {
         "metadata": "{}",
         "name": "humidity",
         "type": "\"integer\""
        },
        {
         "metadata": "{}",
         "name": "windSpeed",
         "type": "\"integer\""
        },
        {
         "metadata": "{}",
         "name": "windDirection",
         "type": "\"string\""
        },
        {
         "metadata": "{}",
         "name": "precipitation",
         "type": "\"integer\""
        },
        {
         "metadata": "{}",
         "name": "conditions",
         "type": "\"string\""
        },
        {
         "metadata": "{}",
         "name": "timestamp",
         "type": "\"timestamp\""
        }
       ],
       "type": "table"
      }
     },
     "output_type": "display_data"
    }
   ],
   "source": [
    "# Reading and Transforming: Load streaming data from the 'streaming.bronze.weather' Delta table, cast 'body' to string, parse JSON, and select specific fields\n",
    "df = spark.readStream\\\n",
    "    .format(\"delta\")\\\n",
    "    .table(\"streaming.bronze.weather\")\\\n",
    "    .withColumn(\"body\", col(\"body\").cast(\"string\"))\\\n",
    "    .withColumn(\"body\",from_json(col(\"body\"), json_schema))\\\n",
    "    .select(\"body.temperature\", \"body.humidity\", \"body.windSpeed\", \"body.windDirection\", \"body.precipitation\", \"body.conditions\", col(\"enqueuedTime\").alias('timestamp'))\n",
    "\n",
    "# Displaying stream: Visualize the transformed data in the DataFrame for verification and analysis\n",
    "df.display()\n",
    "\n",
    "# Writing stream: Save the transformed data to the 'streaming.silver.weather' Delta table in 'append' mode with checkpointing for data reliability\n",
    "df.writeStream\\\n",
    "    .option(\"checkpointLocation\", \"/mnt/streaming/silver/weather\")\\\n",
    "    .outputMode(\"append\")\\\n",
    "    .format(\"delta\")\\\n",
    "    .toTable(\"streaming.silver.weather\")"
   ]
  },
  {
   "cell_type": "markdown",
   "metadata": {
    "application/vnd.databricks.v1+cell": {
     "cellMetadata": {
      "byteLimit": 2048000,
      "rowLimit": 10000
     },
     "inputWidgets": {},
     "nuid": "4078a144-9652-490b-adf3-348ad8780e95",
     "showTitle": false,
     "title": ""
    }
   },
   "source": [
    "#### Gold Layer"
   ]
  },
  {
   "cell_type": "markdown",
   "metadata": {
    "application/vnd.databricks.v1+cell": {
     "cellMetadata": {
      "byteLimit": 2048000,
      "rowLimit": 10000
     },
     "inputWidgets": {},
     "nuid": "53c07779-5a57-4f70-8c90-34554f8a82b1",
     "showTitle": false,
     "title": ""
    }
   },
   "source": [
    "Reading, aggregating and writing the stream from the silver to the gold layer."
   ]
  },
  {
   "cell_type": "code",
   "execution_count": 0,
   "metadata": {
    "application/vnd.databricks.v1+cell": {
     "cellMetadata": {
      "byteLimit": 2048000,
      "rowLimit": 10000
     },
     "inputWidgets": {},
     "nuid": "cb4b337b-6bb7-490d-b1d3-2e8b83456661",
     "showTitle": false,
     "title": ""
    }
   },
   "outputs": [
    {
     "output_type": "display_data",
     "data": {
      "text/html": [
       "<style scoped>\n",
       "  .table-result-container {\n",
       "    max-height: 300px;\n",
       "    overflow: auto;\n",
       "  }\n",
       "  table, th, td {\n",
       "    border: 1px solid black;\n",
       "    border-collapse: collapse;\n",
       "  }\n",
       "  th, td {\n",
       "    padding: 5px;\n",
       "  }\n",
       "  th {\n",
       "    text-align: left;\n",
       "  }\n",
       "</style><div class='table-result-container'><table class='table-result'><thead style='background-color: white'><tr><th>start</th><th>end</th><th>temperature</th><th>humidity</th><th>windSpeed</th><th>precipitation</th></tr></thead><tbody><tr><td>2024-08-19T05:30:00.000+0000</td><td>2024-08-19T05:35:00.000+0000</td><td>28.0</td><td>38.0</td><td>40.0</td><td>0.0</td></tr><tr><td>2024-08-19T05:20:00.000+0000</td><td>2024-08-19T05:25:00.000+0000</td><td>90.0</td><td>80.0</td><td>30.0</td><td>0.0</td></tr><tr><td>2024-08-19T05:45:00.000+0000</td><td>2024-08-19T05:50:00.000+0000</td><td>8.333333333333334</td><td>13.666666666666666</td><td>20.0</td><td>2.0</td></tr><tr><td>2024-08-19T06:15:00.000+0000</td><td>2024-08-19T06:20:00.000+0000</td><td>70.0</td><td>100.0</td><td>10.0</td><td>0.0</td></tr><tr><td>2024-08-19T05:55:00.000+0000</td><td>2024-08-19T06:00:00.000+0000</td><td>20.0</td><td>21.25</td><td>27.5</td><td>2.0</td></tr><tr><td>2024-08-19T05:25:00.000+0000</td><td>2024-08-19T05:30:00.000+0000</td><td>24.0</td><td>36.666666666666664</td><td>36.666666666666664</td><td>0.0</td></tr></tbody></table></div>"
      ]
     },
     "metadata": {
      "application/vnd.databricks.v1+output": {
       "addedWidgets": {},
       "aggData": [],
       "aggError": "",
       "aggOverflow": false,
       "aggSchema": [],
       "aggSeriesLimitReached": false,
       "aggType": "",
       "arguments": {},
       "columnCustomDisplayInfos": {},
       "data": [
        [
         "2024-08-19T05:30:00.000+0000",
         "2024-08-19T05:35:00.000+0000",
         28.0,
         38.0,
         40.0,
         0.0
        ],
        [
         "2024-08-19T05:20:00.000+0000",
         "2024-08-19T05:25:00.000+0000",
         90.0,
         80.0,
         30.0,
         0.0
        ],
        [
         "2024-08-19T05:45:00.000+0000",
         "2024-08-19T05:50:00.000+0000",
         8.333333333333334,
         13.666666666666666,
         20.0,
         2.0
        ],
        [
         "2024-08-19T06:15:00.000+0000",
         "2024-08-19T06:20:00.000+0000",
         70.0,
         100.0,
         10.0,
         0.0
        ],
        [
         "2024-08-19T05:55:00.000+0000",
         "2024-08-19T06:00:00.000+0000",
         20.0,
         21.25,
         27.5,
         2.0
        ],
        [
         "2024-08-19T05:25:00.000+0000",
         "2024-08-19T05:30:00.000+0000",
         24.0,
         36.666666666666664,
         36.666666666666664,
         0.0
        ]
       ],
       "datasetInfos": [],
       "dbfsResultPath": null,
       "isJsonSchema": true,
       "metadata": {
        "isDbfsCommandResult": false
       },
       "overflow": false,
       "plotOptions": {
        "customPlotOptions": {},
        "displayType": "table",
        "pivotAggregation": null,
        "pivotColumns": null,
        "xColumns": null,
        "yColumns": null
       },
       "removedWidgets": [],
       "schema": [
        {
         "metadata": "{}",
         "name": "start",
         "type": "\"timestamp\""
        },
        {
         "metadata": "{}",
         "name": "end",
         "type": "\"timestamp\""
        },
        {
         "metadata": "{}",
         "name": "temperature",
         "type": "\"double\""
        },
        {
         "metadata": "{}",
         "name": "humidity",
         "type": "\"double\""
        },
        {
         "metadata": "{}",
         "name": "windSpeed",
         "type": "\"double\""
        },
        {
         "metadata": "{}",
         "name": "precipitation",
         "type": "\"double\""
        }
       ],
       "type": "table"
      }
     },
     "output_type": "display_data"
    }
   ],
   "source": [
    "# Aggregating Stream: Read from 'streaming.silver.weather', apply watermarking and windowing, and calculate average weather metrics\n",
    "df = spark.readStream\\\n",
    "    .format(\"delta\")\\\n",
    "    .table(\"streaming.silver.weather\")\\\n",
    "    .withWatermark(\"timestamp\", \"5 minutes\") \\\n",
    "    .groupBy(window(\"timestamp\", \"5 minutes\")) \\\n",
    "    .agg(avg(\"temperature\").alias('temperature'), avg(\"humidity\").alias('humidity'), avg(\"windSpeed\").alias('windSpeed'), avg(\"precipitation\").alias('precipitation'))\\\n",
    "\t.select('window.start', 'window.end', 'temperature', 'humidity', 'windSpeed', 'precipitation')\n",
    "\n",
    "# Displaying Aggregated Stream: Visualize aggregated data for insights into weather trends\n",
    "df.display()\n",
    "\n",
    "# Writing Aggregated Stream: Store the aggregated data in 'streaming.gold.weather_aggregated' with checkpointing for data integrity\n",
    "df.writeStream\\\n",
    "    .option(\"checkpointLocation\", \"/mnt/streaming/gold/weather_summary\")\\\n",
    "    .outputMode(\"append\")\\\n",
    "    .format(\"delta\")\\\n",
    "    .toTable(\"streaming.gold.weather_summary\")"
   ]
  },
  {
   "cell_type": "code",
   "execution_count": 0,
   "metadata": {
    "application/vnd.databricks.v1+cell": {
     "cellMetadata": {
      "byteLimit": 2048000,
      "implicitDf": true,
      "rowLimit": 10000
     },
     "inputWidgets": {},
     "nuid": "094c6015-a804-4a64-8c22-15d18f86d407",
     "showTitle": false,
     "title": ""
    }
   },
   "outputs": [
    {
     "output_type": "display_data",
     "data": {
      "text/html": [
       "<style scoped>\n",
       "  .table-result-container {\n",
       "    max-height: 300px;\n",
       "    overflow: auto;\n",
       "  }\n",
       "  table, th, td {\n",
       "    border: 1px solid black;\n",
       "    border-collapse: collapse;\n",
       "  }\n",
       "  th, td {\n",
       "    padding: 5px;\n",
       "  }\n",
       "  th {\n",
       "    text-align: left;\n",
       "  }\n",
       "</style><div class='table-result-container'><table class='table-result'><thead style='background-color: white'><tr><th>start</th><th>end</th><th>temperature</th><th>humidity</th><th>windSpeed</th><th>precipitation</th></tr></thead><tbody><tr><td>2024-08-19T05:20:00.000+0000</td><td>2024-08-19T05:25:00.000+0000</td><td>90.0</td><td>80.0</td><td>30.0</td><td>0.0</td></tr><tr><td>2024-08-19T05:20:00.000+0000</td><td>2024-08-19T05:25:00.000+0000</td><td>90.0</td><td>80.0</td><td>30.0</td><td>0.0</td></tr><tr><td>2024-08-19T05:30:00.000+0000</td><td>2024-08-19T05:35:00.000+0000</td><td>28.0</td><td>38.0</td><td>40.0</td><td>0.0</td></tr><tr><td>2024-08-19T05:45:00.000+0000</td><td>2024-08-19T05:50:00.000+0000</td><td>8.333333333333334</td><td>13.666666666666666</td><td>20.0</td><td>2.0</td></tr><tr><td>2024-08-19T05:25:00.000+0000</td><td>2024-08-19T05:30:00.000+0000</td><td>24.0</td><td>36.666666666666664</td><td>36.666666666666664</td><td>0.0</td></tr><tr><td>2024-08-19T05:30:00.000+0000</td><td>2024-08-19T05:35:00.000+0000</td><td>28.0</td><td>38.0</td><td>40.0</td><td>0.0</td></tr><tr><td>2024-08-19T05:25:00.000+0000</td><td>2024-08-19T05:30:00.000+0000</td><td>24.0</td><td>36.666666666666664</td><td>36.666666666666664</td><td>0.0</td></tr></tbody></table></div>"
      ]
     },
     "metadata": {
      "application/vnd.databricks.v1+output": {
       "addedWidgets": {},
       "aggData": [],
       "aggError": "",
       "aggOverflow": false,
       "aggSchema": [],
       "aggSeriesLimitReached": false,
       "aggType": "",
       "arguments": {},
       "columnCustomDisplayInfos": {},
       "data": [
        [
         "2024-08-19T05:20:00.000+0000",
         "2024-08-19T05:25:00.000+0000",
         90.0,
         80.0,
         30.0,
         0.0
        ],
        [
         "2024-08-19T05:20:00.000+0000",
         "2024-08-19T05:25:00.000+0000",
         90.0,
         80.0,
         30.0,
         0.0
        ],
        [
         "2024-08-19T05:30:00.000+0000",
         "2024-08-19T05:35:00.000+0000",
         28.0,
         38.0,
         40.0,
         0.0
        ],
        [
         "2024-08-19T05:45:00.000+0000",
         "2024-08-19T05:50:00.000+0000",
         8.333333333333334,
         13.666666666666666,
         20.0,
         2.0
        ],
        [
         "2024-08-19T05:25:00.000+0000",
         "2024-08-19T05:30:00.000+0000",
         24.0,
         36.666666666666664,
         36.666666666666664,
         0.0
        ],
        [
         "2024-08-19T05:30:00.000+0000",
         "2024-08-19T05:35:00.000+0000",
         28.0,
         38.0,
         40.0,
         0.0
        ],
        [
         "2024-08-19T05:25:00.000+0000",
         "2024-08-19T05:30:00.000+0000",
         24.0,
         36.666666666666664,
         36.666666666666664,
         0.0
        ]
       ],
       "datasetInfos": [],
       "dbfsResultPath": null,
       "isJsonSchema": true,
       "metadata": {},
       "overflow": false,
       "plotOptions": {
        "customPlotOptions": {},
        "displayType": "table",
        "pivotAggregation": null,
        "pivotColumns": null,
        "xColumns": null,
        "yColumns": null
       },
       "removedWidgets": [],
       "schema": [
        {
         "metadata": "{}",
         "name": "start",
         "type": "\"timestamp\""
        },
        {
         "metadata": "{}",
         "name": "end",
         "type": "\"timestamp\""
        },
        {
         "metadata": "{}",
         "name": "temperature",
         "type": "\"double\""
        },
        {
         "metadata": "{}",
         "name": "humidity",
         "type": "\"double\""
        },
        {
         "metadata": "{}",
         "name": "windSpeed",
         "type": "\"double\""
        },
        {
         "metadata": "{}",
         "name": "precipitation",
         "type": "\"double\""
        }
       ],
       "type": "table"
      }
     },
     "output_type": "display_data"
    }
   ],
   "source": [
    "%sql\n",
    "\n",
    "select * from streaming.gold.weather_summary;"
   ]
  },
  {
   "cell_type": "code",
   "execution_count": 0,
   "metadata": {
    "application/vnd.databricks.v1+cell": {
     "cellMetadata": {},
     "inputWidgets": {},
     "nuid": "34981450-deaf-4e7c-a055-a930368d9c83",
     "showTitle": false,
     "title": ""
    }
   },
   "outputs": [],
   "source": []
  }
 ],
 "metadata": {
  "application/vnd.databricks.v1+notebook": {
   "dashboards": [],
   "environmentMetadata": null,
   "language": "python",
   "notebookMetadata": {
    "mostRecentlyExecutedCommandWithImplicitDF": {
     "commandId": 1700387707448591,
     "dataframes": [
      "_sqldf"
     ]
    },
    "pythonIndentUnit": 4
   },
   "notebookName": "Real-time Data Processing with Azure Databricks (and Event Hubs)",
   "widgets": {}
  }
 },
 "nbformat": 4,
 "nbformat_minor": 0
}
